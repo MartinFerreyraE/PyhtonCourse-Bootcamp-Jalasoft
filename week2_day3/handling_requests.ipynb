{
 "cells": [
  {
   "cell_type": "markdown",
   "metadata": {},
   "source": [
    "**OpenWeatherMap.org** \n",
    "\n",
    "Provides an API for looking up weather forecasts. \n",
    "\n",
    "We'll use **requests** module to connect to their website's API and download the daily current temperature for the circus in Orlando, FL.\n",
    "\n",
    "The url we will use is http://api.openweathermap.org/data/2.5/weather?q=London&units=imperial&appid=67da29cb91129f1a68c1c06c1be92daa\n",
    "The first part connects to their API: http://api.openweathermap.org/data/2.5/weather. \n",
    "\n",
    "Then you can see we set q=London for the location, units=imperial for Fahrenheit, and finally we have an APPID=... which you can sign up for on their website if you have an app that's using their service."
   ]
  },
  {
   "cell_type": "code",
   "execution_count": null,
   "metadata": {},
   "outputs": [],
   "source": [
    "import request"
   ]
  },
  {
   "cell_type": "markdown",
   "metadata": {},
   "source": [
    "**Tasks**\n",
    "\n",
    "We're downloading the weather data in JSON format, which is a combination of lists and dictionaries. Let's print out the contents of weather_json and look for how we can access the temp key from the JSON.\n",
    "\n",
    "Take a look at the contents of the response.json file, which models the JSON response we would get from our api query. This dictionary is now stored in the weather_json variable. In the middle of the dictionary, there is a key called 'main'. The value assigned to 'main' is a dictionary containing temperature values. So let's first look up the key 'main' in our dictionary weather_json and assign it to the variable main_weather.\n",
    "\n",
    "Now we can get the current temperature by looking up the key 'temp' within main_weather and assign it to a variable named temp.\n",
    "\n",
    "Now let's print out: **The Circus's current temperature is** and append the temp value to the end of that sentence.\n",
    "Try out your program by pressing the Run button below the terminal (or entering python3 circus.py into the terminal)"
   ]
  },
  {
   "cell_type": "code",
   "execution_count": 10,
   "metadata": {},
   "outputs": [
    {
     "name": "stdout",
     "output_type": "stream",
     "text": [
      "The Circus's current temperature is 50.07\n"
     ]
    }
   ],
   "source": [
    "import requests\n",
    "## pip3 install requests\n",
    "\n",
    "APPID = '67da29cb91129f1a68c1c06c1be92daa' # use your own APPID\n",
    "CITY = 'London'\n",
    "URL = f\"http://api.openweathermap.org/data/2.5/weather?q={CITY}&units=imperial&appid={APPID}\"\n",
    "\n",
    "def get_weather_data():\n",
    "    # envia un HTTP GET al URL\n",
    "    response = requests.get(URL) # get devuelve un object (propiedades + metodos realizables en ese objeto)\n",
    "    # print(response, type(response))\n",
    "    http_response_code = response.status_code\n",
    "    data = response.json() # el metodo json() nos permite leer los datos de la response\n",
    "\n",
    "    # print(http_response_code, type(http_response_code))\n",
    "    # print(data, type(data))\n",
    "\n",
    "    # return tupla con dos valores status code, data\n",
    "    return response.status_code, response.json()\n",
    "\n",
    "\n",
    "def main():\n",
    "    status_code, wheater_data = get_weather_data()\n",
    "    temp = wheater_data['main'].get('temp')\n",
    "    print(\"The Circus's current temperature is\", temp)\n",
    "main()"
   ]
  }
 ],
 "metadata": {
  "kernelspec": {
   "display_name": "Python 3.10.7 64-bit (microsoft store)",
   "language": "python",
   "name": "python3"
  },
  "language_info": {
   "codemirror_mode": {
    "name": "ipython",
    "version": 3
   },
   "file_extension": ".py",
   "mimetype": "text/x-python",
   "name": "python",
   "nbconvert_exporter": "python",
   "pygments_lexer": "ipython3",
   "version": "3.10.7"
  },
  "orig_nbformat": 4,
  "vscode": {
   "interpreter": {
    "hash": "951acce4ee2d6eb9fe3565b96e466293146d7f1585a7e067fb08e2ff6ef89eb0"
   }
  }
 },
 "nbformat": 4,
 "nbformat_minor": 2
}
