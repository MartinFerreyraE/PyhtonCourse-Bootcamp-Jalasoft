{
 "cells": [
  {
   "cell_type": "markdown",
   "metadata": {},
   "source": [
    "**Problem:** \n",
    "\n",
    "We have data in json format in file **data.json**, and we want to read it into our system\n"
   ]
  },
  {
   "cell_type": "code",
   "execution_count": 8,
   "metadata": {},
   "outputs": [
    {
     "name": "stdout",
     "output_type": "stream",
     "text": [
      "{\"a\": 1, \"b\": 2} <class 'str'>\n",
      "{'a': 1, 'b': 2} <class 'dict'>\n",
      "1\n"
     ]
    }
   ],
   "source": [
    "## LOAD JSON STRING into JSON in-memory object\n",
    "import json\n",
    "\n",
    "data =  '{\"a\": 1, \"b\": 2}'\n",
    "\n",
    "print (data, type(data))\n",
    "\n",
    "#convertir un json string en un json in-memory object\n",
    "json_data = json.loads(str(data)) # toma un string y lo convierte en un objeto json in-memory object\n",
    "print(json_data, type(json_data))\n",
    "\n",
    "print(json_data.get('a'))"
   ]
  },
  {
   "cell_type": "code",
   "execution_count": 2,
   "metadata": {},
   "outputs": [
    {
     "name": "stdout",
     "output_type": "stream",
     "text": [
      "<_io.TextIOWrapper name='data.json' mode='r' encoding='cp1252'> <class '_io.TextIOWrapper'>\n",
      "{'coord': {'lon': -81.38, 'lat': 28.54}, 'weather': [{'id': 500, 'main': 'Rain', 'description': 'light rain', 'icon': '10d'}], 'base': 'stations', 'main': {'temp': 84.34, 'pressure': 1017, 'humidity': 70, 'temp_min': 82.04, 'temp_max': 86}, 'visibility': 11265, 'wind': {'speed': 5.82, 'deg': 90}, 'clouds': {'all': 40}, 'dt': 1537829220, 'sys': {'type': 1, 'id': 729, 'message': 0.0034, 'country': 'US', 'sunrise': 1537787727, 'sunset': 1537831106}, 'id': 4167147, 'name': 'Orlando', 'cod': 200} <class 'dict'>\n"
     ]
    }
   ],
   "source": [
    "import json\n",
    "\n",
    "# Open file\n",
    "file_name = \"data.json\"\n",
    "with open(file_name, 'r') as f:\n",
    "    print(f, type(f))\n",
    "\n",
    "    # Load file as JSON\n",
    "    ## pasamos la tuberia al archivo\n",
    "    data = json.load(f)\n",
    "    print(data, type(data))"
   ]
  },
  {
   "cell_type": "code",
   "execution_count": null,
   "metadata": {},
   "outputs": [],
   "source": [
    "## Load JSON string into JSON in-memory object\n",
    "import json\n",
    "\n",
    "## program receives an string : \n",
    "# from a webservice or query in database or reading file as text\n",
    "data = '{\"a\": 1, \"b\": 1}' # JSON compliant string\n",
    "\n",
    "print(data, type(data))\n",
    "\n",
    "# convert JSON string into in-memory JSON object\n",
    "\n",
    "json_data = json.loads(data) # takes a JSON complaint string and puts it into a JSON in-memory object (listas, dictionarios)\n",
    "print(json_data, type(json_data))\n",
    "\n",
    "print(json_data.get('a'))"
   ]
  },
  {
   "cell_type": "code",
   "execution_count": null,
   "metadata": {},
   "outputs": [],
   "source": [
    "## generate number from current timestamp (fecha + hora + minuto + segundo + timezone, etc)\n",
    "import datetime\n",
    "\n",
    "datetime.datetime.now()"
   ]
  },
  {
   "cell_type": "code",
   "execution_count": null,
   "metadata": {},
   "outputs": [],
   "source": [
    "from datetime import datetime # de la libreria datetime solo voy a importar el modulo \"datetime\"\n",
    "dt = datetime.now()\n",
    "print(dt, type(dt))\n",
    "\n",
    "#date_time = dt.strftime(\"%m/%d/%Y, %H:%M:%S\")\n",
    "date_time = dt.strftime(\"%m%d%Y%H%M%S\")\n",
    "print(date_time, type(date_time))\n",
    "print(\"date and time:\",date_time)\t"
   ]
  },
  {
   "cell_type": "code",
   "execution_count": 10,
   "metadata": {},
   "outputs": [
    {
     "name": "stdout",
     "output_type": "stream",
     "text": [
      "{\n",
      "    \"a\": \"9:00am\",\n",
      "    \"b\": \"9:00am\",\n",
      "    \"c\": \"9:00am\"\n",
      "} <class 'str'>\n"
     ]
    }
   ],
   "source": [
    "# write in-memory JSON object into a json file\n",
    "import json\n",
    "from datetime import datetime\n",
    "\n",
    "def write_file(filename, data):\n",
    "    with open(filename, 'w') as file:\n",
    "        file.write(data)\n",
    "\n",
    "def generate_filename(filename=\"schedules\", extension=\"json\"):\n",
    "    dt = datetime.now()\n",
    "    date_time_sufix = dt.strftime(\"%m%d%Y%H%M%S\")\n",
    "    return \"{}_{}.{}\".format(filename, date_time_sufix, extension)\n",
    "\n",
    "def main():\n",
    "    ### your program handles/generates in-memory object: list, dictionarios, [tuples, sets...]\n",
    "    schedules = {\n",
    "        'a': '9:00am',\n",
    "        'b': '9:00am',\n",
    "        'c': '9:00am'\n",
    "    }\n",
    "\n",
    "    data = json.dumps(schedules, indent = 4)\n",
    "    print(data, type(data))\n",
    "\n",
    "    filename = generate_filename(filename=\"my_file\")\n",
    "\n",
    "    write_file(filename, data)\n",
    "\n",
    "main()\n"
   ]
  }
 ],
 "metadata": {
  "kernelspec": {
   "display_name": "Python 3.10.7 64-bit (microsoft store)",
   "language": "python",
   "name": "python3"
  },
  "language_info": {
   "codemirror_mode": {
    "name": "ipython",
    "version": 3
   },
   "file_extension": ".py",
   "mimetype": "text/x-python",
   "name": "python",
   "nbconvert_exporter": "python",
   "pygments_lexer": "ipython3",
   "version": "3.10.7"
  },
  "orig_nbformat": 4,
  "vscode": {
   "interpreter": {
    "hash": "951acce4ee2d6eb9fe3565b96e466293146d7f1585a7e067fb08e2ff6ef89eb0"
   }
  }
 },
 "nbformat": 4,
 "nbformat_minor": 2
}
