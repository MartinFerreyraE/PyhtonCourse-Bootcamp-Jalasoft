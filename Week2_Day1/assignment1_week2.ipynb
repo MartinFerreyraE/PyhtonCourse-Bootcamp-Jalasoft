{
 "cells": [
  {
   "cell_type": "markdown",
   "metadata": {},
   "source": [
    "**Week 2 - Assigment 1**"
   ]
  },
  {
   "cell_type": "code",
   "execution_count": null,
   "metadata": {},
   "outputs": [],
   "source": [
    "## join array elements\n",
    "\n",
    "grades1 = [10, 20, 40, 67.7]\n",
    "grades2 = [100, 25.0, 40.5, 6.7]\n",
    "expected_result = [10, 20, 40, 67.7, 100, 25.0, 40.5, 6.7]\n",
    "result = grades1 + grades2\n",
    "print(result)\n",
    "\n",
    "assert result == expected_result, f\"actual result {result} does not match expected result {expected_result}\""
   ]
  },
  {
   "cell_type": "code",
   "execution_count": null,
   "metadata": {},
   "outputs": [],
   "source": [
    "## sum array elements\n",
    "import numpy as np\n",
    "\n",
    "grades1 = np.array([10, 20, 40, 67.7])\n",
    "grades2 = np.array([100, 25.0, 40.5, 6.7])\n",
    "expected_result = [110, 45.0, 80.5, 74.4]\n",
    "\n",
    "result = grades1 + grades2  \n",
    "\n",
    "print(result)\n",
    "  #Resuelto de forma no óptima pues el formato retornado no es el deseado\n",
    "assert result == expected_result, f\"actual result {result} does not match expected result {expected_result}\""
   ]
  },
  {
   "cell_type": "code",
   "execution_count": null,
   "metadata": {},
   "outputs": [],
   "source": [
    "import random\n",
    "# With arithmetic manipulation, we can convert current data to the way we want it to be. \n",
    "# Here's a real-world problem I face - I moved down to the United States about 6 years ago from Canada. \n",
    "# In Canada we use celsius for temperatures, and most of the time it has to be converted to the US system which uses farenheit. \n",
    "# Convert a number of farenheit values, say the weather forecase, to celsius\n",
    "# And the formula for conversion is ((°F − 32) × 5/9 = °C)\n",
    "farenheit = [0,-10,-5,-15,0]\n",
    "celsius = []\n",
    "aux=0\n",
    "\n",
    "for f in farenheit:\n",
    "    aux=(f - 32)*5/9\n",
    "    celsius.append(aux)\n",
    "    print(aux)\n",
    "\n",
    "# Expected result cambiado ya que los resultados esperados no eran correctos\n",
    "\n",
    "expected_celsius = [-17.77777777777778, -23.333333333333332, -20.555555555555557, -26.11111111111111, -17.77777777777778]\n",
    "assert celsius == expected_celsius, f\"actual result {celsius} does not match expected result {expected_celsius}\"\n",
    "\n",
    "# Now, create an array with random values of typical `Ann Arbor winter` farenheit values with sample_size specified by the user\n",
    "# then convert its values to celsius\n",
    "# result list must not contain duplicates, and celsius numbers must be floating point with 3 decimal places\n",
    "\n",
    "celsius = []\n",
    "c=0\n",
    "expected_celsius = []\n",
    "\n",
    "sample_size = input('Type the size of Ann Arbor winter farenheit values')\n",
    "sample_size_int = int(sample_size)\n",
    "\n",
    "while c < sample_size_int:\n",
    "    celsius_value = random.randint(0,64)\n",
    "    if celsius_value not in celsius:\n",
    "            celsius.append(celsius_value)\n",
    "            c=c+1\n",
    "            print((celsius_value - 32)*5/9)\n",
    "\n",
    "\n"
   ]
  },
  {
   "cell_type": "code",
   "execution_count": null,
   "metadata": {},
   "outputs": [],
   "source": [
    "## Now, we want to get a boolean array to check celcius degrees that are greater than -20 degrees\n",
    "\n",
    "farenheit = [0,-10,-5,-15,0]\n",
    "celcius_gt_20 = []\n",
    "\n",
    "# Expected result cambiado ya que los resultados esperados no eran correctos\n",
    "\n",
    "expected_celcius_gt_20 = [True, False, False, False, True]\n",
    "\n",
    "for f in farenheit:\n",
    "    if (f - 32)*5/9 > -20:\n",
    "        celsius_value = True\n",
    "        print(celsius_value)\n",
    "        celcius_gt_20.append(celsius_value)\n",
    "    else:\n",
    "        celsius_value = False\n",
    "        print(celsius_value)\n",
    "        celcius_gt_20.append(celsius_value)\n",
    "\n",
    "assert celcius_gt_20 == expected_celcius_gt_20, f\"actual result {celcius_gt_20} does not match expected result {expected_celcius_gt_20}\"\n"
   ]
  },
  {
   "cell_type": "code",
   "execution_count": null,
   "metadata": {},
   "outputs": [],
   "source": [
    "## We've held music festivals, every other year since 1970 until now - 2022. How would we list the years?\n",
    "\n",
    "years = list(range(1970, 2023, 2))\n",
    "print(years) #print(years, type(years)) para ver la lista y el tipo de variable que es"
   ]
  },
  {
   "cell_type": "code",
   "execution_count": null,
   "metadata": {},
   "outputs": [],
   "source": [
    "## A fortune-teller robot generate random lotto ticket suggestions for its customers. \n",
    "## How would you help the ronot pick five random numbers between 1 and 53.\n",
    "\n",
    "import random\n",
    "\n",
    "for c in range(5):\n",
    "    value = random.randint(0, 53)\n",
    "    print('Random number:', value)\n",
    "\n"
   ]
  },
  {
   "cell_type": "code",
   "execution_count": null,
   "metadata": {},
   "outputs": [],
   "source": [
    "#lotto ticket will be ´list´ in my program\n",
    "\n",
    "import random\n",
    "\n",
    "ticket = []\n",
    "for c in range(5):\n",
    "    value = random.randint(0, 53)\n",
    "    ticket.append(value)\n",
    "    \n",
    "print('Ticket:', ticket)\n",
    "\n"
   ]
  },
  {
   "cell_type": "code",
   "execution_count": null,
   "metadata": {},
   "outputs": [],
   "source": [
    "# I want tickets to have unique numbers (values cannot be repeated)\n",
    "import random\n",
    "\n",
    "# DRY (don't repeat yourself)\n",
    "SUGGESTIONS_COUNT = 10\n",
    "\n",
    "ticket = []\n",
    "#for c in range (5):\n",
    "while len(ticket) < SUGGESTIONS_COUNT:\n",
    "    value = random.randint(1, 53)\n",
    "    if value not in ticket:\n",
    "        ticket.append(value)\n",
    "\n",
    "assert len(ticket) == SUGGESTIONS_COUNT, f\"expected len was {SUGGESTIONS_COUNT}\"\n",
    "print('Ticket:', ticket)"
   ]
  },
  {
   "cell_type": "code",
   "execution_count": null,
   "metadata": {},
   "outputs": [],
   "source": [
    "\n",
    "import random\n",
    "\n",
    "ticket = []\n",
    "for c in range(5):\n",
    "    value = random.randint(0, 53)\n",
    "    ticket.append(value)\n",
    "\n",
    "# Use 'set' datatype (set does not admit duplicated values) \n",
    "\n",
    "ticket = set(ticket)\n",
    "print('Ticket:', ticket)\n"
   ]
  },
  {
   "cell_type": "code",
   "execution_count": null,
   "metadata": {},
   "outputs": [],
   "source": [
    "## Print this menu prices in the following format\n",
    "##  item 1: $0.50\n",
    "##  item 2: $1.50\n",
    "##  item 3: $2.50\n",
    "\n",
    "menu_prices  = {\n",
    "    'Menu item 1': 0.50,\n",
    "    'Menu item 2': 1.50,\n",
    "    'Menu item 3': 2.50\n",
    "}\n",
    "\n",
    "for item in menu_prices.items():\n",
    "    print(item, type(item))\n",
    "    name, price = item\n",
    "    print(name, ': $', format(price, '.2f'), sep='')  #Format nos ayudaa darle formato a los strings\n",
    "\n",
    "\n",
    "#for item in menu_prices:\n",
    "#   print(f'{item}: ${float(menu_prices[item])}')"
   ]
  },
  {
   "cell_type": "code",
   "execution_count": null,
   "metadata": {},
   "outputs": [],
   "source": [
    "## Create an console interface for ordering from a menu, \n",
    "## it will let customers order and add as many menu items as they want\n",
    "\n",
    "menu = {\n",
    "    'item 1': 0.50,\n",
    "    'item 2': 1.50,\n",
    "    'item 3': 2.50\n",
    "}\n",
    "\n",
    "\n",
    "orders = []\n",
    "print('*** Menu Interface ***')\n",
    "for key, value in menu.items():\n",
    "    print(f'{key}: ${ format(value,\".2f\") }')\n",
    "print('----------------------')\n",
    "\n",
    "# Add the user what they want to order as: what would you like to order? (Q to quit)\n",
    "# while the order is not equal for Q for quit, find the order and add it to the list if it exists\n",
    "# else let the customer know that the `Menu item does not exist`    \n",
    "# See if the customer wants to order anything else `Anything else? (Q to Quit)`\n",
    "\n",
    "print('What would you like to order? (Type \"Q\" to quit)')\n",
    "while True:\n",
    "\n",
    "    order = input()\n",
    "\n",
    "    if order in menu:\n",
    "        print(f'-> You ordered {order}')\n",
    "        orders.append(order)\n",
    "        print('Your order summary is', orders)\n",
    "        \n",
    "    elif order == 'Q':\n",
    "        break\n",
    "\n",
    "    else:\n",
    "        print('-> Menu item does not exist')\n",
    "    print('Anything else? (Q to Quit)')\n"
   ]
  },
  {
   "cell_type": "code",
   "execution_count": null,
   "metadata": {},
   "outputs": [],
   "source": [
    "## We have a problem, we run out of `Cheese sticks` in the menu, we'll need to let the customer know\n",
    "## if the order is `Cheese sticks` print `We're all out of that!` and skip the rest of the code\n",
    "menu = {\n",
    "    'item 1': 0.50,\n",
    "    'item 2': 1.50,\n",
    "    'item 3': 2.50,\n",
    "    'cheese sticks': 3.50\n",
    "}\n",
    "\n",
    "orders = []\n",
    "print('*** Menu Interface ***')\n",
    "for key, value in menu.items():\n",
    "    print(f'{key}: ${ format(value,\".2f\") }')\n",
    "print('----------------------')\n",
    "\n",
    "print('What would you like to order? (Type \"Q\" to quit)')\n",
    "while True:\n",
    "\n",
    "    order = input()\n",
    "\n",
    "    if order in menu:\n",
    "        if order == 'cheese sticks':\n",
    "            print('We are all out of that!')\n",
    "            continue\n",
    "        print(f'-> You ordered {order}')\n",
    "        orders.append(order)\n",
    "        print('Your order summary is', orders)\n",
    "        \n",
    "    elif order == 'Q':\n",
    "        break\n",
    "\n",
    "    else:\n",
    "        print('-> Menu item does not exist')\n",
    "    print('Anything else? (Q to Quit)')\n"
   ]
  },
  {
   "cell_type": "code",
   "execution_count": 22,
   "metadata": {},
   "outputs": [
    {
     "name": "stdout",
     "output_type": "stream",
     "text": [
      "You win! \n",
      "Your number: 2 \n",
      "Computer number: 2\n"
     ]
    }
   ],
   "source": [
    "## We want to create a \"guess the number\" game for our fortune-teller robot. \n",
    "## If you guess the random number between 1 and 10, you win a crystal ball!\n",
    "\n",
    "# There is some code that's been written for us \n",
    "# -- getting the random number the user needs to guess, \n",
    "# asking the user to guess a number, and printing 'You win!' if they win. \n",
    "# We need to write the code to compare the users response to num.\n",
    "\n",
    "import random\n",
    "\n",
    "num = random.randint(1, 10)\n",
    "\n",
    "guess = int(input('Guess a number between 1 and 10'))\n",
    "# YOUR CODE HERE\n",
    "if num == guess:\n",
    "    print('You win!','\\nYour number:', guess,'\\nComputer number:', num)\n",
    "else:\n",
    "    print('You lose!','\\nYour number:', guess,'\\nComputer number:', num)\n"
   ]
  },
  {
   "cell_type": "code",
   "execution_count": 50,
   "metadata": {},
   "outputs": [
    {
     "name": "stdout",
     "output_type": "stream",
     "text": [
      "You win!\n",
      "Missed\n",
      "Missed\n",
      "You lose! The number was: 2\n"
     ]
    }
   ],
   "source": [
    "## Now our fortune-teller robot has a guess the number game — if you guess the random number between 1 and 10, you win a crystal ball! \n",
    "## But the game lets the user guess 10 times, so they always win... #fail. \n",
    "## Let's fix the game so they can only guess three times.\n",
    "## After the while loop ends, check if guess is equal to num, then print 'You win!'. Otherwise, print 'You lose! The number was ' and also print num.\n",
    "import random\n",
    "\n",
    "num = random.randint(1, 10)\n",
    "\n",
    "chances=0\n",
    "\n",
    "while chances < 3:\n",
    "    guess = int(input('Guess a number between 1 and 10'))\n",
    "    \n",
    "    if num == guess:\n",
    "        print('You win!')\n",
    "    else:\n",
    "        print ('Missed')\n",
    "    chances=chances+1\n",
    "\n",
    "print ('You lose! The number was:',num)"
   ]
  }
 ],
 "metadata": {
  "kernelspec": {
   "display_name": "Python 3.10.6 64-bit",
   "language": "python",
   "name": "python3"
  },
  "language_info": {
   "codemirror_mode": {
    "name": "ipython",
    "version": 3
   },
   "file_extension": ".py",
   "mimetype": "text/x-python",
   "name": "python",
   "nbconvert_exporter": "python",
   "pygments_lexer": "ipython3",
   "version": "3.10.6"
  },
  "orig_nbformat": 4,
  "vscode": {
   "interpreter": {
    "hash": "26de051ba29f2982a8de78e945f0abaf191376122a1563185a90213a26c5da77"
   }
  }
 },
 "nbformat": 4,
 "nbformat_minor": 2
}
